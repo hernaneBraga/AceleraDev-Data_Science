{
 "cells": [
  {
   "cell_type": "markdown",
   "metadata": {},
   "source": [
    "# Desafio 4\n",
    "\n",
    "Neste desafio, vamos praticar um pouco sobre testes de hipóteses. Utilizaremos o _data set_ [2016 Olympics in Rio de Janeiro](https://www.kaggle.com/rio2016/olympic-games/), que contém dados sobre os atletas das Olimpíadas de 2016 no Rio de Janeiro.\n",
    "\n",
    "Esse _data set_ conta com informações gerais sobre 11538 atletas como nome, nacionalidade, altura, peso e esporte praticado. Estaremos especialmente interessados nas variáveis numéricas altura (`height`) e peso (`weight`). As análises feitas aqui são parte de uma Análise Exploratória de Dados (EDA).\n",
    "\n",
    "> Obs.: Por favor, não modifique o nome das funções de resposta."
   ]
  },
  {
   "cell_type": "markdown",
   "metadata": {},
   "source": [
    "## _Setup_ geral"
   ]
  },
  {
   "cell_type": "code",
   "execution_count": 1,
   "metadata": {},
   "outputs": [],
   "source": [
    "import pandas as pd\n",
    "import matplotlib.pyplot as plt\n",
    "import numpy as np\n",
    "import scipy.stats as sct\n",
    "import seaborn as sns"
   ]
  },
  {
   "cell_type": "code",
   "execution_count": 2,
   "metadata": {},
   "outputs": [],
   "source": [
    "from IPython.core.pylabtools import figsize\n",
    "\n",
    "figsize(12, 8)\n",
    "\n",
    "sns.set()"
   ]
  },
  {
   "cell_type": "code",
   "execution_count": 3,
   "metadata": {},
   "outputs": [],
   "source": [
    "athletes = pd.read_csv(\"athletes.csv\")"
   ]
  },
  {
   "cell_type": "code",
   "execution_count": 4,
   "metadata": {},
   "outputs": [],
   "source": [
    "def get_sample(df, col_name, n=100, seed=42):\n",
    "    \"\"\"Get a sample from a column of a dataframe.\n",
    "    \n",
    "    It drops any numpy.nan entries before sampling. The sampling\n",
    "    is performed without replacement.\n",
    "    \n",
    "    Example of numpydoc for those who haven't seen yet.\n",
    "    \n",
    "    Parameters\n",
    "    ----------\n",
    "    df : pandas.DataFrame\n",
    "        Source dataframe.\n",
    "    col_name : str\n",
    "        Name of the column to be sampled.\n",
    "    n : int\n",
    "        Sample size. Default is 100.\n",
    "    seed : int\n",
    "        Random seed. Default is 42.\n",
    "    \n",
    "    Returns\n",
    "    -------\n",
    "    pandas.Series\n",
    "        Sample of size n from dataframe's column.\n",
    "    \"\"\"\n",
    "    np.random.seed(seed)\n",
    "    \n",
    "    random_idx = np.random.choice(df[col_name].dropna().index, size=n, replace=False)\n",
    "    \n",
    "    return df.loc[random_idx, col_name]"
   ]
  },
  {
   "cell_type": "markdown",
   "metadata": {},
   "source": [
    "## Inicia sua análise a partir daqui\n",
    "#### Dataset _athletes_ que será utilizado:"
   ]
  },
  {
   "cell_type": "code",
   "execution_count": 5,
   "metadata": {},
   "outputs": [
    {
     "name": "stdout",
     "output_type": "stream",
     "text": [
      "Formato do dataset:  (11538, 11)\n"
     ]
    },
    {
     "data": {
      "text/html": [
       "<div>\n",
       "<style scoped>\n",
       "    .dataframe tbody tr th:only-of-type {\n",
       "        vertical-align: middle;\n",
       "    }\n",
       "\n",
       "    .dataframe tbody tr th {\n",
       "        vertical-align: top;\n",
       "    }\n",
       "\n",
       "    .dataframe thead th {\n",
       "        text-align: right;\n",
       "    }\n",
       "</style>\n",
       "<table border=\"1\" class=\"dataframe\">\n",
       "  <thead>\n",
       "    <tr style=\"text-align: right;\">\n",
       "      <th></th>\n",
       "      <th>id</th>\n",
       "      <th>name</th>\n",
       "      <th>nationality</th>\n",
       "      <th>sex</th>\n",
       "      <th>dob</th>\n",
       "      <th>height</th>\n",
       "      <th>weight</th>\n",
       "      <th>sport</th>\n",
       "      <th>gold</th>\n",
       "      <th>silver</th>\n",
       "      <th>bronze</th>\n",
       "    </tr>\n",
       "  </thead>\n",
       "  <tbody>\n",
       "    <tr>\n",
       "      <th>0</th>\n",
       "      <td>736041664</td>\n",
       "      <td>A Jesus Garcia</td>\n",
       "      <td>ESP</td>\n",
       "      <td>male</td>\n",
       "      <td>10/17/69</td>\n",
       "      <td>1.72</td>\n",
       "      <td>64.0</td>\n",
       "      <td>athletics</td>\n",
       "      <td>0</td>\n",
       "      <td>0</td>\n",
       "      <td>0</td>\n",
       "    </tr>\n",
       "    <tr>\n",
       "      <th>1</th>\n",
       "      <td>532037425</td>\n",
       "      <td>A Lam Shin</td>\n",
       "      <td>KOR</td>\n",
       "      <td>female</td>\n",
       "      <td>9/23/86</td>\n",
       "      <td>1.68</td>\n",
       "      <td>56.0</td>\n",
       "      <td>fencing</td>\n",
       "      <td>0</td>\n",
       "      <td>0</td>\n",
       "      <td>0</td>\n",
       "    </tr>\n",
       "    <tr>\n",
       "      <th>2</th>\n",
       "      <td>435962603</td>\n",
       "      <td>Aaron Brown</td>\n",
       "      <td>CAN</td>\n",
       "      <td>male</td>\n",
       "      <td>5/27/92</td>\n",
       "      <td>1.98</td>\n",
       "      <td>79.0</td>\n",
       "      <td>athletics</td>\n",
       "      <td>0</td>\n",
       "      <td>0</td>\n",
       "      <td>1</td>\n",
       "    </tr>\n",
       "    <tr>\n",
       "      <th>3</th>\n",
       "      <td>521041435</td>\n",
       "      <td>Aaron Cook</td>\n",
       "      <td>MDA</td>\n",
       "      <td>male</td>\n",
       "      <td>1/2/91</td>\n",
       "      <td>1.83</td>\n",
       "      <td>80.0</td>\n",
       "      <td>taekwondo</td>\n",
       "      <td>0</td>\n",
       "      <td>0</td>\n",
       "      <td>0</td>\n",
       "    </tr>\n",
       "    <tr>\n",
       "      <th>4</th>\n",
       "      <td>33922579</td>\n",
       "      <td>Aaron Gate</td>\n",
       "      <td>NZL</td>\n",
       "      <td>male</td>\n",
       "      <td>11/26/90</td>\n",
       "      <td>1.81</td>\n",
       "      <td>71.0</td>\n",
       "      <td>cycling</td>\n",
       "      <td>0</td>\n",
       "      <td>0</td>\n",
       "      <td>0</td>\n",
       "    </tr>\n",
       "  </tbody>\n",
       "</table>\n",
       "</div>"
      ],
      "text/plain": [
       "          id            name nationality     sex       dob  height  weight  \\\n",
       "0  736041664  A Jesus Garcia         ESP    male  10/17/69    1.72    64.0   \n",
       "1  532037425      A Lam Shin         KOR  female   9/23/86    1.68    56.0   \n",
       "2  435962603     Aaron Brown         CAN    male   5/27/92    1.98    79.0   \n",
       "3  521041435      Aaron Cook         MDA    male    1/2/91    1.83    80.0   \n",
       "4   33922579      Aaron Gate         NZL    male  11/26/90    1.81    71.0   \n",
       "\n",
       "       sport  gold  silver  bronze  \n",
       "0  athletics     0       0       0  \n",
       "1    fencing     0       0       0  \n",
       "2  athletics     0       0       1  \n",
       "3  taekwondo     0       0       0  \n",
       "4    cycling     0       0       0  "
      ]
     },
     "execution_count": 5,
     "metadata": {},
     "output_type": "execute_result"
    }
   ],
   "source": [
    "# Sua análise começa aqui.\n",
    "df = athletes\n",
    "print(\"Formato do dataset: \", df.shape)\n",
    "df.head()"
   ]
  },
  {
   "cell_type": "markdown",
   "metadata": {},
   "source": [
    "## Questão 1\n",
    "\n",
    "Considerando uma amostra de tamanho 3000 da coluna `height` obtida com a função `get_sample()`, execute o teste de normalidade de Shapiro-Wilk com a função `scipy.stats.shapiro()`. Podemos afirmar que as alturas são normalmente distribuídas com base nesse teste (ao nível de significância de 5%)? Responda com um boolean (`True` ou `False`).\n",
    "\n",
    "### Resposta questão 1:\n",
    "- Aceita-se a hipótese nula do teste de Shapiro-Wilk, caso o p-value do teste seja maior que o alpha (0.05) estabelecido."
   ]
  },
  {
   "cell_type": "code",
   "execution_count": 6,
   "metadata": {},
   "outputs": [
    {
     "name": "stdout",
     "output_type": "stream",
     "text": [
      "p-value do teste de Shapiro-Wilk: 5.7e-07\n",
      "Para 𝛼 = 0.05 rejeita-se a hipotese nula, portanto de acordo com a estatística do teste, pode-se afirmar que os dados não vêm de uma distribuição normal.\n"
     ]
    }
   ],
   "source": [
    "amostra_height = get_sample(df, 'height', 3000)\n",
    "shapiro_height = sct.shapiro(amostra_height)\n",
    "alpha = 0.05\n",
    "\n",
    "\n",
    "print(\"p-value do teste de Shapiro-Wilk:\", round(shapiro_height[1], 8))\n",
    "print(\"Para 𝛼 =\", alpha,\n",
    "      \"rejeita-se a hipotese nula, portanto de acordo com a estatística do teste, pode-se afirmar que os dados não vêm de uma distribuição normal.\")"
   ]
  },
  {
   "cell_type": "code",
   "execution_count": 7,
   "metadata": {},
   "outputs": [],
   "source": [
    "def q1():\n",
    "    amostra_height = get_sample(df, 'height', 3000)\n",
    "    shapiro_height = sct.shapiro(amostra_height)\n",
    "    alpha = 0.05\n",
    "    return shapiro_height[1] > alpha"
   ]
  },
  {
   "cell_type": "code",
   "execution_count": 8,
   "metadata": {},
   "outputs": [
    {
     "name": "stdout",
     "output_type": "stream",
     "text": [
      "Resposta q1:  False\n"
     ]
    }
   ],
   "source": [
    "print(\"Resposta q1: \", q1())"
   ]
  },
  {
   "cell_type": "markdown",
   "metadata": {},
   "source": [
    "__Para refletir__:\n",
    "\n",
    "* Plote o histograma dessa variável (com, por exemplo, `bins=25`). A forma do gráfico e o resultado do teste são condizentes? Por que?\n",
    "* Plote o qq-plot para essa variável e a analise.\n",
    "* Existe algum nível de significância razoável que nos dê outro resultado no teste? (Não faça isso na prática. Isso é chamado _p-value hacking_, e não é legal)."
   ]
  },
  {
   "cell_type": "code",
   "execution_count": 9,
   "metadata": {},
   "outputs": [
    {
     "data": {
      "image/png": "[encoded data removed]",
      "text/plain": [
       "<Figure size 864x576 with 1 Axes>"
      ]
     },
     "metadata": {},
     "output_type": "display_data"
    }
   ],
   "source": [
    "plt.hist(amostra_height, bins=25)\n",
    "plt.title(\"Histograma de amostras da variável altura\")\n",
    "plt.show()"
   ]
  },
  {
   "cell_type": "code",
   "execution_count": 10,
   "metadata": {},
   "outputs": [
    {
     "data": {
      "image/png": "[encoded data removed]",
      "text/plain": [
       "<Figure size 864x576 with 1 Axes>"
      ]
     },
     "metadata": {},
     "output_type": "display_data"
    }
   ],
   "source": [
    "import statsmodels.api as sm\n",
    "sm.qqplot(amostra_height, fit=True, line=\"45\");\n",
    "plt.title(\"Q-Q plot\")\n",
    "plt.show()"
   ]
  },
  {
   "cell_type": "markdown",
   "metadata": {},
   "source": [
    "A partir dos gráficos acima, pode-se ver que os dados possuem uma distribuição próxima da normal teórica. O que indica que o resultado do teste de Shapiro-Wilk pode não indicar a realidade dos dados."
   ]
  },
  {
   "cell_type": "markdown",
   "metadata": {},
   "source": [
    "## Questão 2\n",
    "\n",
    "Repita o mesmo procedimento acima, mas agora utilizando o teste de normalidade de Jarque-Bera através da função `scipy.stats.jarque_bera()`. Agora podemos afirmar que as alturas são normalmente distribuídas (ao nível de significância de 5%)? Responda com um boolean (`True` ou `False`).\n",
    "\n",
    "### Resposta da questão 2:"
   ]
  },
  {
   "cell_type": "code",
   "execution_count": 11,
   "metadata": {},
   "outputs": [
    {
     "name": "stdout",
     "output_type": "stream",
     "text": [
      "p-value do teste de Jarque-Bera: 0.0015\n",
      "Para 𝛼 = 0.05 rejeita-se a hipótese nula, portanto de acordo com a estatística do teste não podemos afirmar que os dados possuem distribuição normal.\n"
     ]
    }
   ],
   "source": [
    "jarque_bera_height = sct.jarque_bera(amostra_height)\n",
    "\n",
    "print(\"p-value do teste de Jarque-Bera:\", round(jarque_bera_height[1], 4))\n",
    "print(\"Para 𝛼 =\", alpha,\n",
    "      \"rejeita-se a hipótese nula, portanto de acordo com a estatística do teste não podemos afirmar que os dados possuem distribuição normal.\")"
   ]
  },
  {
   "cell_type": "code",
   "execution_count": 12,
   "metadata": {},
   "outputs": [],
   "source": [
    "def q2():\n",
    "    alpha = 0.05\n",
    "    jarque_bera_height = sct.jarque_bera(amostra_height)\n",
    "    return jarque_bera_height[1] > alpha"
   ]
  },
  {
   "cell_type": "code",
   "execution_count": 13,
   "metadata": {},
   "outputs": [
    {
     "name": "stdout",
     "output_type": "stream",
     "text": [
      "Resposta q2:  False\n"
     ]
    }
   ],
   "source": [
    "print(\"Resposta q2: \", q2())"
   ]
  },
  {
   "cell_type": "markdown",
   "metadata": {},
   "source": [
    "__Para refletir__:\n",
    "\n",
    "* Esse resultado faz sentido?"
   ]
  },
  {
   "cell_type": "markdown",
   "metadata": {},
   "source": [
    "## Questão 3\n",
    "\n",
    "Considerando agora uma amostra de tamanho 3000 da coluna `weight` obtida com a função `get_sample()`. Faça o teste de normalidade de D'Agostino-Pearson utilizando a função `scipy.stats.normaltest()`. Podemos afirmar que os pesos vêm de uma distribuição normal ao nível de significância de 5%? Responda com um boolean (`True` ou `False`)."
   ]
  },
  {
   "cell_type": "markdown",
   "metadata": {},
   "source": [
    "### Respostas questão 3:\n",
    "- Hipótese nula: dados possuem distribuição normal"
   ]
  },
  {
   "cell_type": "code",
   "execution_count": 14,
   "metadata": {},
   "outputs": [
    {
     "name": "stdout",
     "output_type": "stream",
     "text": [
      "p-valor = 0.0\n",
      "p-valor < alpha:  True\n",
      "Para 𝛼 = 0.05 hipótese nula pode ser rejeitada.\n"
     ]
    }
   ],
   "source": [
    "alpha = 0.05\n",
    "amostra_weight = get_sample(df, 'weight', 3000)\n",
    "k2, p = sct.normaltest(amostra_weight)\n",
    "\n",
    "print(\"p-valor =\", round(p, 8))\n",
    "print(\"p-valor < alpha: \", p < alpha)\n",
    "\n",
    "if p < alpha:\n",
    "    print(\"Para 𝛼 =\", alpha,\n",
    "          \"hipótese nula pode ser rejeitada.\")\n",
    "else:\n",
    "    print(\"Para 𝛼 =\", alpha,\n",
    "          \"hipótese nula pode ser aceita.\")"
   ]
  },
  {
   "cell_type": "code",
   "execution_count": 15,
   "metadata": {},
   "outputs": [],
   "source": [
    "def q3():\n",
    "    alpha = 0.05\n",
    "    amostra_weight = get_sample(df, 'weight', 3000)\n",
    "    k2, p = sct.normaltest(amostra_weight)\n",
    "    if p < alpha:\n",
    "        return False # Dados nao vem de distrib. normal\n",
    "    else:\n",
    "        return True # Dados podem ser de distrib. normal"
   ]
  },
  {
   "cell_type": "code",
   "execution_count": 16,
   "metadata": {},
   "outputs": [
    {
     "name": "stdout",
     "output_type": "stream",
     "text": [
      "Resposta q3:  False\n"
     ]
    }
   ],
   "source": [
    "print(\"Resposta q3: \", q3())"
   ]
  },
  {
   "cell_type": "markdown",
   "metadata": {},
   "source": [
    "__Para refletir__:\n",
    "\n",
    "* Plote o histograma dessa variável (com, por exemplo, `bins=25`). A forma do gráfico e o resultado do teste são condizentes? Por que?\n",
    "* Um _box plot_ também poderia ajudar a entender a resposta."
   ]
  },
  {
   "cell_type": "code",
   "execution_count": 17,
   "metadata": {},
   "outputs": [
    {
     "data": {
      "image/png": "[encoded data removed]",
      "text/plain": [
       "<Figure size 864x576 with 1 Axes>"
      ]
     },
     "metadata": {},
     "output_type": "display_data"
    }
   ],
   "source": [
    "plt.hist(amostra_weight, bins=25)\n",
    "plt.title(\"Histograma de amostras da variável peso\")\n",
    "plt.show()"
   ]
  },
  {
   "cell_type": "code",
   "execution_count": 18,
   "metadata": {},
   "outputs": [
    {
     "data": {
      "image/png": "[encoded data removed]",
      "text/plain": [
       "<Figure size 864x576 with 1 Axes>"
      ]
     },
     "metadata": {},
     "output_type": "display_data"
    }
   ],
   "source": [
    "plt.boxplot(amostra_weight)\n",
    "plt.title(\"Boxplot variável peso\")\n",
    "plt.show()"
   ]
  },
  {
   "cell_type": "markdown",
   "metadata": {},
   "source": [
    "Pelos gráficos pode-se fazer as seguintes pontuações:\n",
    "- O histograma possui uma distribuição próxima de normal, porém possui uma calda na direita.\n",
    "- No boxplot nota-se a presença de muitos outliers. Provavelmente este é o motivo da alteração do formato da curva normal.\n",
    "- Como não houve qualquer filtro dos dados, uma hipótese levantada para estes outliers é a presença de atletas que participem de esportes, ou categorias de peso elevado."
   ]
  },
  {
   "cell_type": "markdown",
   "metadata": {},
   "source": [
    "## Questão 4\n",
    "\n",
    "Realize uma transformação logarítmica em na amostra de `weight` da questão 3 e repita o mesmo procedimento. Podemos afirmar a normalidade da variável transformada ao nível de significância de 5%? Responda com um boolean (`True` ou `False`).\n",
    "\n",
    "### Resposta questão 4:"
   ]
  },
  {
   "cell_type": "code",
   "execution_count": 19,
   "metadata": {},
   "outputs": [
    {
     "name": "stdout",
     "output_type": "stream",
     "text": [
      "p-valor = 0.0\n",
      "p-valor < alpha:  True\n",
      "Para 𝛼 = 0.05 hipótese nula pode ser rejeitada.\n"
     ]
    }
   ],
   "source": [
    "weight_log = np.log(amostra_weight)\n",
    "k2, p = sct.normaltest(weight_log)\n",
    "alpha = 0.05\n",
    "\n",
    "print(\"p-valor =\", round(p, 8))\n",
    "print(\"p-valor < alpha: \", p < alpha)\n",
    "\n",
    "if p < alpha:\n",
    "    print(\"Para 𝛼 =\", alpha,\n",
    "          \"hipótese nula pode ser rejeitada.\")\n",
    "else:\n",
    "    print(\"Para 𝛼 =\", alpha,\n",
    "          \"hipótese nula pode ser aceita.\")"
   ]
  },
  {
   "cell_type": "code",
   "execution_count": 20,
   "metadata": {},
   "outputs": [],
   "source": [
    "def q4():\n",
    "    # Retorne aqui o resultado da questão 4.\n",
    "    weight_log = np.log(amostra_weight)\n",
    "    k2, p = sct.normaltest(weight_log)\n",
    "    if p < alpha:\n",
    "        return False\n",
    "    else:\n",
    "        return True"
   ]
  },
  {
   "cell_type": "code",
   "execution_count": 21,
   "metadata": {},
   "outputs": [
    {
     "name": "stdout",
     "output_type": "stream",
     "text": [
      "Resposta q4:  False\n"
     ]
    }
   ],
   "source": [
    "print(\"Resposta q4: \", q4())"
   ]
  },
  {
   "cell_type": "markdown",
   "metadata": {},
   "source": [
    "__Para refletir__:\n",
    "\n",
    "* Plote o histograma dessa variável (com, por exemplo, `bins=25`). A forma do gráfico e o resultado do teste são condizentes? Por que?\n",
    "* Você esperava um resultado diferente agora?"
   ]
  },
  {
   "cell_type": "code",
   "execution_count": 22,
   "metadata": {},
   "outputs": [
    {
     "data": {
      "image/png": "[encoded data removed]",
      "text/plain": [
       "<Figure size 864x576 with 1 Axes>"
      ]
     },
     "metadata": {},
     "output_type": "display_data"
    }
   ],
   "source": [
    "plt.hist(weight_log, bins=25)\n",
    "plt.title(\"Histograma de amostras da variável peso em escala log\")\n",
    "plt.show()"
   ]
  },
  {
   "cell_type": "markdown",
   "metadata": {},
   "source": [
    "> __Para as questão 5 6 e 7 a seguir considere todos testes efetuados ao nível de significância de 5%__."
   ]
  },
  {
   "cell_type": "markdown",
   "metadata": {},
   "source": [
    "## Questão 5\n",
    "\n",
    "Obtenha todos atletas brasileiros, norte-americanos e canadenses em `DataFrame`s chamados `bra`, `usa` e `can`,respectivamente. Realize um teste de hipóteses para comparação das médias das alturas (`height`) para amostras independentes e variâncias diferentes com a função `scipy.stats.ttest_ind()` entre `bra` e `usa`. Podemos afirmar que as médias são estatisticamente iguais? Responda com um boolean (`True` ou `False`).\n",
    "\n",
    "### Resposta questão 5:\n",
    "- Hipótese nula: média entre as amostras são iguais\n",
    "- Nível de significância (alpha) = 0.05"
   ]
  },
  {
   "cell_type": "code",
   "execution_count": 23,
   "metadata": {},
   "outputs": [
    {
     "name": "stdout",
     "output_type": "stream",
     "text": [
      "Shape BR:  (485, 11)\n",
      "Shape CAN:  (321, 11)\n",
      "Shape USA:  (567, 11)\n",
      "\n",
      "Número de amostras são diferentes, portanto deverão ser adequadas ao teste.\n",
      "\n",
      "p-valor = 0.001308\n",
      "Hipótese nula rejeitada. Distribuições tem médias diferentes para alpha = 0.05\n"
     ]
    }
   ],
   "source": [
    "# Criando dataframes\n",
    "br = df.query(\"nationality == 'BRA'\")\n",
    "can = df.query(\"nationality == 'CAN'\")\n",
    "usa = df.query(\"nationality == 'USA'\")\n",
    "\n",
    "print(\"Shape BR: \", br.shape)\n",
    "print(\"Shape CAN: \", can.shape)\n",
    "print(\"Shape USA: \", usa.shape)\n",
    "\n",
    "print(\"\\nNúmero de amostras são diferentes, portanto deverão ser adequadas ao teste.\\n\")\n",
    "\n",
    "# Teste de hipotese\n",
    "alpha = 0.05\n",
    "result_test = sct.ttest_ind(br['height'], usa['height'], equal_var=False, nan_policy='omit')\n",
    "\n",
    "print(\"p-valor =\", round(result_test[1], 8))\n",
    "if result_test[1] < alpha:\n",
    "    print(\"Hipótese nula rejeitada. Distribuições tem médias diferentes para alpha =\", alpha)\n",
    "else:\n",
    "    print(\"Hipótese nula aceita. Distribuições tem médias iguais para alpha = \", alpha)"
   ]
  },
  {
   "cell_type": "code",
   "execution_count": 24,
   "metadata": {},
   "outputs": [],
   "source": [
    "def q5():\n",
    "    # Criando dataframes\n",
    "    br = df.query(\"nationality == 'BRA'\")\n",
    "    can = df.query(\"nationality == 'CAN'\")\n",
    "    usa = df.query(\"nationality == 'USA'\")\n",
    "\n",
    "    # Teste com alpha = 0.05\n",
    "    alpha = 0.05\n",
    "    result_test = sct.ttest_ind(br['height'], usa['height'], equal_var=False, nan_policy='omit') \n",
    "\n",
    "    if result_test[1] < alpha:\n",
    "        return False\n",
    "    else:\n",
    "        return True"
   ]
  },
  {
   "cell_type": "code",
   "execution_count": 25,
   "metadata": {},
   "outputs": [
    {
     "name": "stdout",
     "output_type": "stream",
     "text": [
      "Resposta q5:  False\n"
     ]
    }
   ],
   "source": [
    "print(\"Resposta q5: \", q5())"
   ]
  },
  {
   "cell_type": "markdown",
   "metadata": {},
   "source": [
    "## Questão 6\n",
    "\n",
    "Repita o procedimento da questão 5, mas agora entre as alturas de `bra` e `can`. Podemos afimar agora que as médias são estatisticamente iguais? Reponda com um boolean (`True` ou `False`).\n",
    "\n",
    "### Resposta questão 6:"
   ]
  },
  {
   "cell_type": "code",
   "execution_count": 26,
   "metadata": {},
   "outputs": [
    {
     "name": "stdout",
     "output_type": "stream",
     "text": [
      "p-valor = 0.52308273\n",
      "Hipótese nula aceita. Distribuições tem médias iguais para alpha =  0.05\n"
     ]
    }
   ],
   "source": [
    "# Teste de hipotese\n",
    "alpha = 0.05\n",
    "result_test = sct.ttest_ind(br['height'], can['height'], equal_var=False, nan_policy='omit')\n",
    "\n",
    "print(\"p-valor =\", round(result_test[1], 8))\n",
    "if result_test[1] < alpha:\n",
    "    print(\"Hipótese nula rejeitada. Distribuições tem médias diferentes para alpha =\", alpha)\n",
    "else:\n",
    "    print(\"Hipótese nula aceita. Distribuições tem médias iguais para alpha = \", alpha)"
   ]
  },
  {
   "cell_type": "code",
   "execution_count": 27,
   "metadata": {},
   "outputs": [],
   "source": [
    "def q6():\n",
    "    # Criando dataframes\n",
    "    br = df.query(\"nationality == 'BRA'\")\n",
    "    can = df.query(\"nationality == 'CAN'\")\n",
    "    usa = df.query(\"nationality == 'USA'\")\n",
    "\n",
    "    # Teste de hipótese\n",
    "    alpha = 0.05\n",
    "    result_test = sct.ttest_ind(br['height'], can['height'], equal_var=False, nan_policy='omit')\n",
    "\n",
    "    if result_test[1] < alpha:\n",
    "        return False\n",
    "    else:\n",
    "        return True"
   ]
  },
  {
   "cell_type": "code",
   "execution_count": 28,
   "metadata": {},
   "outputs": [
    {
     "name": "stdout",
     "output_type": "stream",
     "text": [
      "Resposta q6:  True\n"
     ]
    }
   ],
   "source": [
    "print(\"Resposta q6: \", q6())"
   ]
  },
  {
   "cell_type": "markdown",
   "metadata": {},
   "source": [
    "## Questão 7\n",
    "\n",
    "Repita o procedimento da questão 6, mas agora entre as alturas de `usa` e `can`. Qual o valor do p-valor retornado? Responda como um único escalar arredondado para oito casas decimais.\n",
    "\n",
    "### Resposta questão 7:"
   ]
  },
  {
   "cell_type": "code",
   "execution_count": 29,
   "metadata": {},
   "outputs": [
    {
     "name": "stdout",
     "output_type": "stream",
     "text": [
      "p-valor = 0.00046601\n",
      "Hipótese nula rejeitada. Distribuições tem médias diferentes para alpha = 0.05\n"
     ]
    }
   ],
   "source": [
    "# Teste de hipotese\n",
    "alpha = 0.05\n",
    "result_test = sct.ttest_ind(usa['height'], can['height'], equal_var=False, nan_policy='omit')\n",
    "\n",
    "print(\"p-valor =\", round(result_test[1], 8))\n",
    "if result_test[1] < alpha:\n",
    "    print(\"Hipótese nula rejeitada. Distribuições tem médias diferentes para alpha =\", alpha)\n",
    "else:\n",
    "    print(\"Hipótese nula aceita. Distribuições tem médias iguais para alpha = \", alpha)\n"
   ]
  },
  {
   "cell_type": "code",
   "execution_count": 30,
   "metadata": {},
   "outputs": [],
   "source": [
    "def q7():\n",
    "    alpha = 0.05\n",
    "    result_test = sct.ttest_ind(usa['height'], can['height'], equal_var=False, nan_policy='omit')\n",
    "    p_valor = result_test[1]\n",
    "    \n",
    "    # Transformando em class float\n",
    "    resp = np.float32(round(p_valor, 8))\n",
    "    resp_float = round(resp.item(), 8)\n",
    "\n",
    "    return resp_float"
   ]
  },
  {
   "cell_type": "code",
   "execution_count": 31,
   "metadata": {},
   "outputs": [
    {
     "name": "stdout",
     "output_type": "stream",
     "text": [
      "Resposta q7:  0.00046601\n"
     ]
    }
   ],
   "source": [
    "print(\"Resposta q7: \", q7())"
   ]
  },
  {
   "cell_type": "markdown",
   "metadata": {},
   "source": [
    "__Para refletir__:\n",
    "\n",
    "* O resultado faz sentido?\n",
    "* Você consegue interpretar esse p-valor?\n",
    "* Você consegue chegar a esse valor de p-valor a partir da variável de estatística?"
   ]
  }
 ],
 "metadata": {
  "kernelspec": {
   "display_name": "Python 3",
   "language": "python",
   "name": "python3"
  },
  "language_info": {
   "codemirror_mode": {
    "name": "ipython",
    "version": 3
   },
   "file_extension": ".py",
   "mimetype": "text/x-python",
   "name": "python",
   "nbconvert_exporter": "python",
   "pygments_lexer": "ipython3",
   "version": "3.7.6"
  },
  "latex_envs": {
   "LaTeX_envs_menu_present": true,
   "autoclose": false,
   "autocomplete": true,
   "bibliofile": "biblio.bib",
   "cite_by": "apalike",
   "current_citInitial": 1,
   "eqLabelWithNumbers": true,
   "eqNumInitial": 1,
   "hotkeys": {
    "equation": "Ctrl-E",
    "itemize": "Ctrl-I"
   },
   "labels_anchors": false,
   "latex_user_defs": false,
   "report_style_numbering": false,
   "user_envs_cfg": false
  },
  "toc": {
   "base_numbering": 1,
   "nav_menu": {},
   "number_sections": true,
   "sideBar": true,
   "skip_h1_title": false,
   "title_cell": "Table of Contents",
   "title_sidebar": "Contents",
   "toc_cell": false,
   "toc_position": {
    "height": "calc(100% - 180px)",
    "left": "10px",
    "top": "150px",
    "width": "307.2px"
   },
   "toc_section_display": true,
   "toc_window_display": true
  }
 },
 "nbformat": 4,
 "nbformat_minor": 2
}
