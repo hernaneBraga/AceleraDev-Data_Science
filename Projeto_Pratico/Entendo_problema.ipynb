{
 "cells": [
  {
   "cell_type": "code",
   "execution_count": 4,
   "metadata": {},
   "outputs": [],
   "source": [
    "import pandas as pd\n",
    "import numpy as np\n",
    "\n",
    "#Configuracoes\n",
    "pd.set_option('display.max_rows', 500)\n",
    "pd.set_option('display.max_columns', 500)"
   ]
  },
  {
   "cell_type": "markdown",
   "metadata": {},
   "source": [
    "# Projeto Prático AceleraDev Data Science\n"
   ]
  },
  {
   "cell_type": "markdown",
   "metadata": {},
   "source": [
    "Problema de aprendizado não supervesionado: clustering\n",
    "- market tem todas as empresas\n",
    "- portfolio 1, 2, 3 são os clientes de cada empresa.\n",
    "\n",
    "__Descobrir:__\n",
    "- Se clientes da empresa 1 estão nas empresas 2 e 3 e vice versa\n",
    "- Quantidade de empresas que não estão em nenhuma das empresas\n",
    "- Quantidade de campos nulos em cada um dos porfolios\n",
    "\n",
    "__Testar:__\n",
    "- SVM na base de market: testar para entender se são classes separáveis\n",
    "    - Colocar label de qual empresa aquela empresa é cliente\n",
    "    - Colocar label de não explorado para as que nao tem alocação\n",
    "    - Aplicar PCA com SVM \n",
    "    \n",
    "__Solução final:__\n",
    "- Receber uma lista com clientes atuais\n",
    "- Tratar os dados recebidos via pipeline\n",
    "- Encontrar cluster pros dados recebidos\n",
    "- Classificar nos cluster a base nova"
   ]
  },
  {
   "cell_type": "code",
   "execution_count": 5,
   "metadata": {},
   "outputs": [],
   "source": [
    "market = pd.read_csv('data/estaticos_market.csv')\n",
    "pf1 = pd.read_csv('data/estaticos_portfolio1.csv')\n",
    "pf2 = pd.read_csv('data/estaticos_portfolio2.csv')\n",
    "pf3 = pd.read_csv('data/estaticos_portfolio3.csv')"
   ]
  },
  {
   "cell_type": "code",
   "execution_count": null,
   "metadata": {},
   "outputs": [],
   "source": [
    "\n"
   ]
  },
  {
   "cell_type": "code",
   "execution_count": 21,
   "metadata": {},
   "outputs": [],
   "source": [
    "id_1 = pf1['id']\n",
    "id_2 = pf2['id']\n",
    "id_3 = pf3['id']"
   ]
  },
  {
   "cell_type": "code",
   "execution_count": 22,
   "metadata": {},
   "outputs": [
    {
     "data": {
      "text/plain": [
       "0      dabe79bec87c88ae04e869bf6bd321ee5e1893cecf6625...\n",
       "1      32e5f4e10932153a7ba869cb0386e7e02d49d2461046b8...\n",
       "2      a95d6f30bba445bd3d6b0c5b36f865b38ec01d17336090...\n",
       "3      6cb309685cea0b6d2988818792ec2e6fcb2bd02e0afa9e...\n",
       "4      f72aa7fa6787b0a5a1c88885b6120850df8ee0f71adc25...\n",
       "                             ...                        \n",
       "550    4e2353206c04c6a8c097252c89f6970594f0796676bba5...\n",
       "551    571a7461978f95114944695065e774a38f06528d287740...\n",
       "552    4fbebb5a4ea9d2c5da87f446aff48403f0409e2e8fe381...\n",
       "553    8bbff0a749bceb9749c5edd90373270ff9109f069ef27c...\n",
       "554    970485e6b8abe52d8fb4e0bf060fb6f0f4f8576cb7583d...\n",
       "Name: id, Length: 555, dtype: object"
      ]
     },
     "execution_count": 22,
     "metadata": {},
     "output_type": "execute_result"
    }
   ],
   "source": [
    "id_1"
   ]
  },
  {
   "cell_type": "code",
   "execution_count": 28,
   "metadata": {},
   "outputs": [],
   "source": [
    "S1 = set(id_1)\n",
    "S2 = set(id_2)\n",
    "S3 = set(id_3)"
   ]
  },
  {
   "cell_type": "code",
   "execution_count": 39,
   "metadata": {},
   "outputs": [],
   "source": [
    "g = S2.intersection(S3)"
   ]
  },
  {
   "cell_type": "code",
   "execution_count": 40,
   "metadata": {},
   "outputs": [
    {
     "data": {
      "text/plain": [
       "108"
      ]
     },
     "execution_count": 40,
     "metadata": {},
     "output_type": "execute_result"
    }
   ],
   "source": [
    "len(g)"
   ]
  },
  {
   "cell_type": "code",
   "execution_count": 41,
   "metadata": {},
   "outputs": [
    {
     "data": {
      "text/plain": [
       "566"
      ]
     },
     "execution_count": 41,
     "metadata": {},
     "output_type": "execute_result"
    }
   ],
   "source": [
    "len(id_2)"
   ]
  },
  {
   "cell_type": "code",
   "execution_count": null,
   "metadata": {},
   "outputs": [],
   "source": []
  }
 ],
 "metadata": {
  "kernelspec": {
   "display_name": "Python 3",
   "language": "python",
   "name": "python3"
  },
  "language_info": {
   "codemirror_mode": {
    "name": "ipython",
    "version": 3
   },
   "file_extension": ".py",
   "mimetype": "text/x-python",
   "name": "python",
   "nbconvert_exporter": "python",
   "pygments_lexer": "ipython3",
   "version": "3.7.7"
  },
  "latex_envs": {
   "LaTeX_envs_menu_present": true,
   "autoclose": false,
   "autocomplete": true,
   "bibliofile": "biblio.bib",
   "cite_by": "apalike",
   "current_citInitial": 1,
   "eqLabelWithNumbers": true,
   "eqNumInitial": 1,
   "hotkeys": {
    "equation": "Ctrl-E",
    "itemize": "Ctrl-I"
   },
   "labels_anchors": false,
   "latex_user_defs": false,
   "report_style_numbering": false,
   "user_envs_cfg": false
  },
  "toc": {
   "base_numbering": 1,
   "nav_menu": {},
   "number_sections": true,
   "sideBar": true,
   "skip_h1_title": false,
   "title_cell": "Table of Contents",
   "title_sidebar": "Contents",
   "toc_cell": false,
   "toc_position": {},
   "toc_section_display": true,
   "toc_window_display": false
  }
 },
 "nbformat": 4,
 "nbformat_minor": 4
}
