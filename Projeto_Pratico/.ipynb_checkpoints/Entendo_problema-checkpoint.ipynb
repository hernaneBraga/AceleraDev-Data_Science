{
 "cells": [
  {
   "cell_type": "code",
   "execution_count": 4,
   "metadata": {},
   "outputs": [],
   "source": [
    "import pandas as pd\n",
    "import numpy as np\n",
    "\n",
    "#Configuracoes\n",
    "pd.set_option('display.max_rows', 500)\n",
    "pd.set_option('display.max_columns', 500)"
   ]
  },
  {
   "cell_type": "markdown",
   "metadata": {},
   "source": [
    "Problema de aprendizado não supervesionado: clustering\n",
    "- market tem todas as empresas\n",
    "- portfolio 1, 2, 3 são os clientes de cada empresa.\n",
    "\n",
    "__Descobrir:__\n",
    "- Se clientes da empresa 1 estão nas empresas 2 e 3 e vice versa\n",
    "- Quantidade de empresas que não estão em nenhuma das empresas\n",
    "- Quantidade de campos nulos em cada um dos porfolios\n",
    "\n",
    "__Testar:__\n",
    "- SVM na base de market: testar para entender se são classes separáveis\n",
    "    - Colocar label de qual empresa aquela empresa é cliente\n",
    "    - Colocar label de não explorado para as que nao tem alocação\n",
    "    - Aplicar PCA com SVM \n",
    "    \n",
    "__Solução final:__\n",
    "- Receber uma lista com clientes atuais\n",
    "- Tratar os dados recebidos via pipeline\n",
    "- Encontrar cluster pros dados recebidos\n",
    "- Classificar nos cluster a base nova"
   ]
  },
  {
   "cell_type": "code",
   "execution_count": 5,
   "metadata": {},
   "outputs": [],
   "source": [
    "market = pd.read_csv('data/estaticos_market.csv')\n",
    "pf1 = pd.read_csv('data/estaticos_portfolio1.csv')\n",
    "pf2 = pd.read_csv('data/estaticos_portfolio2.csv')\n",
    "pf3 = pd.read_csv('data/estaticos_portfolio3.csv')"
   ]
  },
  {
   "cell_type": "code",
   "execution_count": null,
   "metadata": {},
   "outputs": [],
   "source": [
    "\n"
   ]
  },
  {
   "cell_type": "code",
   "execution_count": 7,
   "metadata": {},
   "outputs": [],
   "source": [
    "id_1 = pf1['id'].value_counts()\n",
    "id_2 = pf2['id'].value_counts()\n",
    "id_3 = pf3['id'].value_counts()"
   ]
  },
  {
   "cell_type": "code",
   "execution_count": 10,
   "metadata": {},
   "outputs": [
    {
     "data": {
      "text/plain": [
       "7559ed1cfcdba4e423c369b39bc719165e2a1c9591ccdbffc55ddd5cffb3ed39    1\n",
       "a637b146cfbd16f78c61f9b65f2f00b63532facb190fde46560050a791d7ee47    1\n",
       "f7e2894dce5dbb49662da50c55bcb96cdc3d34188abfe82d54ab6d94e7244d0c    1\n",
       "a9049eb17db9c9ac7ccf83d1bcf4b85efaaaca4babc524d81c5182ebd2b426e7    1\n",
       "c81b7680a68031ec12212760ad1d3971adc1f5fc08f80ac37cebfa19eda4660e    1\n",
       "                                                                   ..\n",
       "ca01d4352d5e77b8083bf9726ffdac787edff95983a2b515e9f8ad4d2bb1b1ca    1\n",
       "5a31c4585c1dd54c48963202b7493c9a681f8401575f3f7c1b83c6dfb6eb667f    1\n",
       "d7cd78925af3dc43805480a0538fd6dfc387dbab810be4bbade73a786065372d    1\n",
       "433937d046f193c3406eca560aecdf74415cac7977c5e8908722728f2792fb1a    1\n",
       "790c5fd499a073463497259d2ccb4ab40456bb7daf5f22a2c7242d130fa05b24    1\n",
       "Name: id, Length: 555, dtype: int64"
      ]
     },
     "execution_count": 10,
     "metadata": {},
     "output_type": "execute_result"
    }
   ],
   "source": [
    "id_1"
   ]
  },
  {
   "cell_type": "code",
   "execution_count": 14,
   "metadata": {},
   "outputs": [],
   "source": [
    "S1 = set(id_1)\n",
    "S2 = set(id_2)\n",
    "S3 = set(id_3)"
   ]
  },
  {
   "cell_type": "code",
   "execution_count": 17,
   "metadata": {},
   "outputs": [
    {
     "name": "stdout",
     "output_type": "stream",
     "text": [
      "{1}\n"
     ]
    }
   ],
   "source": [
    "print(S1.intersection(S3))"
   ]
  },
  {
   "cell_type": "code",
   "execution_count": null,
   "metadata": {},
   "outputs": [],
   "source": []
  },
  {
   "cell_type": "code",
   "execution_count": null,
   "metadata": {},
   "outputs": [],
   "source": []
  },
  {
   "cell_type": "code",
   "execution_count": null,
   "metadata": {},
   "outputs": [],
   "source": []
  }
 ],
 "metadata": {
  "kernelspec": {
   "display_name": "Python 3",
   "language": "python",
   "name": "python3"
  },
  "language_info": {
   "codemirror_mode": {
    "name": "ipython",
    "version": 3
   },
   "file_extension": ".py",
   "mimetype": "text/x-python",
   "name": "python",
   "nbconvert_exporter": "python",
   "pygments_lexer": "ipython3",
   "version": "3.7.7"
  },
  "latex_envs": {
   "LaTeX_envs_menu_present": true,
   "autoclose": false,
   "autocomplete": true,
   "bibliofile": "biblio.bib",
   "cite_by": "apalike",
   "current_citInitial": 1,
   "eqLabelWithNumbers": true,
   "eqNumInitial": 1,
   "hotkeys": {
    "equation": "Ctrl-E",
    "itemize": "Ctrl-I"
   },
   "labels_anchors": false,
   "latex_user_defs": false,
   "report_style_numbering": false,
   "user_envs_cfg": false
  },
  "toc": {
   "base_numbering": 1,
   "nav_menu": {},
   "number_sections": true,
   "sideBar": true,
   "skip_h1_title": false,
   "title_cell": "Table of Contents",
   "title_sidebar": "Contents",
   "toc_cell": false,
   "toc_position": {},
   "toc_section_display": true,
   "toc_window_display": false
  }
 },
 "nbformat": 4,
 "nbformat_minor": 4
}
